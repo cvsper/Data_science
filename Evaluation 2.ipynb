{
 "cells": [
  {
   "cell_type": "code",
   "execution_count": 1,
   "metadata": {
    "collapsed": true
   },
   "outputs": [],
   "source": [
    "# Import Libaries\n",
    "from sklearn.datasets import load_iris\n",
    "# Init data\n",
    "iris = load_iris()"
   ]
  },
  {
   "cell_type": "code",
   "execution_count": 2,
   "metadata": {},
   "outputs": [
    {
     "name": "stdout",
     "output_type": "stream",
     "text": [
      "(150, 4)\n",
      "(150,)\n"
     ]
    }
   ],
   "source": [
    "# Check data\n",
    "X = iris.data\n",
    "y = iris.target\n",
    "print X.shape\n",
    "print y.shape"
   ]
  },
  {
   "cell_type": "code",
   "execution_count": 4,
   "metadata": {},
   "outputs": [
    {
     "data": {
      "text/plain": [
       "0.96666666666666667"
      ]
     },
     "execution_count": 4,
     "metadata": {},
     "output_type": "execute_result"
    }
   ],
   "source": [
    "# Import Classifier\n",
    "from sklearn.neighbors import KNeighborsClassifier as KN\n",
    "# Initiate Classifier\n",
    "knn = KN(n_neighbors = 5)\n",
    "# Fit model\n",
    "knn.fit(X,y)\n",
    "# Make prediction\n",
    "# Import metric.accuracy_score\n",
    "from sklearn import metrics \n",
    "# Check accuracy of algorithm\n",
    "knn.predict(X)\n",
    "knn_pre = knn.predict(X)\n",
    "metrics.accuracy_score(y, knn_pre)"
   ]
  },
  {
   "cell_type": "code",
   "execution_count": 5,
   "metadata": {},
   "outputs": [
    {
     "data": {
      "text/plain": [
       "1.0"
      ]
     },
     "execution_count": 5,
     "metadata": {},
     "output_type": "execute_result"
    }
   ],
   "source": [
    "# Initiate Classifier\n",
    "knn1 = KN(n_neighbors = 1)\n",
    "# Fit model\n",
    "knn1.fit(X,y)\n",
    "# Make prediction\n",
    "# Import metric.accuracy_score\n",
    "from sklearn import metrics \n",
    "# Check accuracy of algorithm\n",
    "knn1.predict(X)\n",
    "knn1_pre = knn1.predict(X)\n",
    "metrics.accuracy_score(y, knn1_pre)"
   ]
  },
  {
   "cell_type": "code",
   "execution_count": 6,
   "metadata": {},
   "outputs": [
    {
     "data": {
      "text/plain": [
       "0.95999999999999996"
      ]
     },
     "execution_count": 6,
     "metadata": {},
     "output_type": "execute_result"
    }
   ],
   "source": [
    "# 1. import classifier\n",
    "from sklearn.linear_model import LogisticRegression\n",
    "# 2. initialize classifier\n",
    "lr = LogisticRegression()\n",
    "# 3. fit data to model\n",
    "lr.fit(X,y)\n",
    "# 4. prediction\n",
    "lr.predict(X)\n",
    "# 5. import and test accuracy_score\n",
    "from sklearn import metrics\n",
    "log_pre = lr.predict(X)\n",
    "metrics.accuracy_score(y, log_pre)"
   ]
  },
  {
   "cell_type": "markdown",
   "metadata": {},
   "source": [
    "## Split/Testing data"
   ]
  },
  {
   "cell_type": "code",
   "execution_count": 10,
   "metadata": {},
   "outputs": [],
   "source": [
    "# Import test/spliting\n",
    "from sklearn.cross_validation import train_test_split \n",
    "# Split Testing\n",
    "X_train, X_test, y_train, y_test = train_test_split(X, y, test_size=0.4 )"
   ]
  },
  {
   "cell_type": "code",
   "execution_count": null,
   "metadata": {
    "collapsed": true
   },
   "outputs": [],
   "source": []
  }
 ],
 "metadata": {
  "kernelspec": {
   "display_name": "Python 2",
   "language": "python",
   "name": "python2"
  },
  "language_info": {
   "codemirror_mode": {
    "name": "ipython",
    "version": 2
   },
   "file_extension": ".py",
   "mimetype": "text/x-python",
   "name": "python",
   "nbconvert_exporter": "python",
   "pygments_lexer": "ipython2",
   "version": "2.7.13"
  }
 },
 "nbformat": 4,
 "nbformat_minor": 2
}
